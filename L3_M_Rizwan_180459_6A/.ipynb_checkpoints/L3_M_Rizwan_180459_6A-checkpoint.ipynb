{
 "cells": [
  {
   "cell_type": "markdown",
   "metadata": {},
   "source": [
    "# Lab: 3: Basic Image Processing 2"
   ]
  },
  {
   "cell_type": "markdown",
   "metadata": {},
   "source": [
    "Group Members:\n",
    "        1. Muahammad Rizwan Khalid (180459)\n",
    "        2. Muhammad Roshan Mughees (193590)\n",
    "\n",
    "Class:  __BSCS-6A__ "
   ]
  },
  {
   "cell_type": "code",
   "execution_count": 1,
   "metadata": {},
   "outputs": [],
   "source": [
    "from PIL import Image"
   ]
  },
  {
   "cell_type": "markdown",
   "metadata": {},
   "source": [
    "#### We are opening each image as a grayscale image"
   ]
  },
  {
   "cell_type": "code",
   "execution_count": 2,
   "metadata": {},
   "outputs": [],
   "source": [
    "image_file = Image.open(\"B3.jpg\")\n",
    "image_file= image_file.convert('L')# convert image to black and white\n",
    "image_file.show()"
   ]
  },
  {
   "cell_type": "markdown",
   "metadata": {},
   "source": [
    "#### The Following Algorithm Basically sets the pixel values based on specific threshold. We find threshold values by hit and trial for the three images."
   ]
  },
  {
   "cell_type": "code",
   "execution_count": 3,
   "metadata": {},
   "outputs": [],
   "source": [
    "import itertools\n",
    "img = Image.new( image_file.mode, image_file.size)\n",
    "pixelsNew = img.load()\n",
    "for x,y in itertools.product(range(0,image_file.size[0]),range(0,image_file.size[1])):\n",
    "    color = image_file.getpixel((x,y))\n",
    "    if color>=190:\n",
    "        pixelsNew[(x, y)]= 255\n",
    "    else: \n",
    "        pixelsNew[(x, y)] = 0\n",
    "img.show()"
   ]
  },
  {
   "cell_type": "markdown",
   "metadata": {},
   "source": [
    "# Task:01:\n",
    "Every image has different intensity for gray levels for each pixel. In short, we cannot have one and only threshold for every image. Below is the results along with threshold values:\n",
    "#### 1. Threshold for first image is 150 <img src=\"result-b1.png\">\n",
    "#### 2. Threshold for first image is 128 <img src=\"result-b2.png\">\n",
    "#### 3. Threshold for first image is 190 <img src=\"result-b3.png\">"
   ]
  },
  {
   "cell_type": "markdown",
   "metadata": {},
   "source": [
    "#### The following code basically draws the histogram for image. On x-axis there are gray-levels from 0-255 while on y-axis there is the frequency of each gray level in the image."
   ]
  },
  {
   "cell_type": "code",
   "execution_count": 4,
   "metadata": {},
   "outputs": [],
   "source": [
    "dic = dict()\n",
    "for x,y in itertools.product(range(0,image_file.size[0]),range(0,image_file.size[1])):\n",
    "    color = image_file.getpixel((x,y))\n",
    "    if int(color) not in dic:\n",
    "        dic[int(color)] = 1\n",
    "    else:\n",
    "        dic[int(color)] = dic[int(color)] + 1"
   ]
  },
  {
   "cell_type": "markdown",
   "metadata": {},
   "source": [
    "#### Displaying in line histogram"
   ]
  },
  {
   "cell_type": "code",
   "execution_count": 11,
   "metadata": {},
   "outputs": [
    {
     "data": {
      "image/png": "[encoded data removed]",
      "text/plain": [
       "<matplotlib.figure.Figure at 0x162519b5fd0>"
      ]
     },
     "metadata": {},
     "output_type": "display_data"
    }
   ],
   "source": [
    "import matplotlib.pyplot as plt\n",
    "plt.bar(dic.keys(), dic.values(), color='g')\n",
    "plt.show()"
   ]
  },
  {
   "cell_type": "code",
   "execution_count": 6,
   "metadata": {},
   "outputs": [],
   "source": [
    "image_file = Image.open(\"XY-cutss.png\")\n",
    "image_file= image_file.convert('1')"
   ]
  },
  {
   "cell_type": "code",
   "execution_count": 7,
   "metadata": {},
   "outputs": [],
   "source": [
    "image_file.show()"
   ]
  },
  {
   "cell_type": "markdown",
   "metadata": {},
   "source": [
    "#### The following code basically calculates the number of black pixels on each row"
   ]
  },
  {
   "cell_type": "code",
   "execution_count": 8,
   "metadata": {},
   "outputs": [],
   "source": [
    "foo= dict()\n",
    "for x in range(0,image_file.size[1]):\n",
    "    count =0\n",
    "    for y in range(0,image_file.size[0]):\n",
    "        color = image_file.getpixel((y,x))\n",
    "        if color is 0:\n",
    "            count+=1\n",
    "    foo[x]=count"
   ]
  },
  {
   "cell_type": "markdown",
   "metadata": {},
   "source": [
    "#### Displaying the histogram. X-axis represents the row and Y-axis represents the number of black pixels"
   ]
  },
  {
   "cell_type": "code",
   "execution_count": 9,
   "metadata": {
    "scrolled": true
   },
   "outputs": [
    {
     "data": {
      "image/png": "[encoded data removed]",
      "text/plain": [
       "<matplotlib.figure.Figure at 0x162519d2278>"
      ]
     },
     "metadata": {},
     "output_type": "display_data"
    }
   ],
   "source": [
    "plt.bar(foo.keys(),foo.values(), color='g')\n",
    "plt.show()"
   ]
  },
  {
   "cell_type": "code",
   "execution_count": 10,
   "metadata": {},
   "outputs": [],
   "source": [
    "img = Image.new( image_file.mode, image_file.size)\n",
    "pixelsNew = img.load()\n",
    "pixelOld= image_file.load()\n",
    "for x,y in itertools.product(range(0,image_file.size[0]),range(0,image_file.size[1])):\n",
    "    color = image_file.getpixel((x,y))\n",
    "    if foo[y]<=40:\n",
    "        pixelsNew[(x, y)]= 0\n",
    "    else:\n",
    "        pixelsNew[(x, y)] =pixelOld[(x,y)] \n",
    "img.show()"
   ]
  },
  {
   "cell_type": "markdown",
   "metadata": {},
   "source": [
    "#### The above code snipet basically checks if the no. of black pixels on any row is less than 40 it simply puts the black line there\n",
    "#### So, it separates out the textual region. We can also say that it separtes foreground from the background. The resultant image of above is shown below: <img src=\"result-b4.png\">"
   ]
  },
  {
   "cell_type": "markdown",
   "metadata": {},
   "source": [
    "# END"
   ]
  }
 ],
 "metadata": {
  "kernelspec": {
   "display_name": "Python 3",
   "language": "python",
   "name": "python3"
  },
  "language_info": {
   "codemirror_mode": {
    "name": "ipython",
    "version": 3
   },
   "file_extension": ".py",
   "mimetype": "text/x-python",
   "name": "python",
   "nbconvert_exporter": "python",
   "pygments_lexer": "ipython3",
   "version": "3.6.4"
  }
 },
 "nbformat": 4,
 "nbformat_minor": 2
}
