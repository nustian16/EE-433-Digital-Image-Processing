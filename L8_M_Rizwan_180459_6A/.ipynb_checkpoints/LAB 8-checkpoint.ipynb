{
 "cells": [
  {
   "cell_type": "code",
   "execution_count": 1,
   "metadata": {},
   "outputs": [],
   "source": [
    "                                        #Name: Muhammad Roshan Mughees\n",
    "                                        #Roll no.: 193590\n",
    "                                        #Class: CS-6A"
   ]
  },
  {
   "cell_type": "code",
   "execution_count": 1,
   "metadata": {},
   "outputs": [],
   "source": [
    "import numpy as np\n",
    "import matplotlib.pyplot as plt\n",
    "import matplotlib.image as mpimg\n",
    "from PIL import Image\n",
    "import PIL\n",
    "import itertools\n",
    "import math"
   ]
  },
  {
   "cell_type": "code",
   "execution_count": 2,
   "metadata": {},
   "outputs": [],
   "source": [
    "image_file = Image.open(\"this.png\").convert(\"L\")"
   ]
  },
  {
   "cell_type": "code",
   "execution_count": 4,
   "metadata": {},
   "outputs": [
    {
     "data": {
      "image/png": "[encoded data removed]",
      "text/plain": [
       "<Figure size 432x288 with 1 Axes>"
      ]
     },
     "metadata": {},
     "output_type": "display_data"
    },
    {
     "data": {
      "image/png": "[encoded data removed]",
      "text/plain": [
       "<Figure size 432x288 with 1 Axes>"
      ]
     },
     "metadata": {},
     "output_type": "display_data"
    }
   ],
   "source": [
    "#TASK 1\n",
    "def makeHistogram(pixels,width,height):\n",
    "    histo = {}\n",
    "    for x,y in itertools.product(range(0,width), range(0, height)):\n",
    "        color = pixels[x][y]\n",
    "        if color in histo:\n",
    "            histo[color] +=1\n",
    "        else:\n",
    "            histo[color] = 1\n",
    "    plt.bar(histo.keys(), histo.values(), color='r')\n",
    "    plt.show()\n",
    "    return histo\n",
    "    \n",
    "image = Image.open(\"this.png\").convert('L')\n",
    "width, height = image.size\n",
    "pixel = np.array(image)\n",
    "histo = makeHistogram(pixel,width,height)\n",
    "equalized = {}\n",
    "prev = -1\n",
    "for color in histo.keys():\n",
    "    if(prev != -1):\n",
    "        equalized[color] = equalized[prev] + (float(histo[color]) / (width*height))\n",
    "    else:\n",
    "        equalized[color] = (float(histo[color]) / (width*height))\n",
    "    prev = color\n",
    "for x,y in itertools.product(range(0,width), range(0, height)):\n",
    "    pixel[x][y] = math.floor(255 * equalized[pixel[x][y]])\n",
    "makeHistogram(pixel,width,height)\n",
    "output = Image.fromarray(pixel)\n",
    "output.show()"
   ]
  },
  {
   "cell_type": "code",
   "execution_count": null,
   "metadata": {},
   "outputs": [],
   "source": [
    "#TASK 2 (a)\n",
    "temp = np.array(image_file)\n",
    "temp = temp.flatten()\n",
    "plt.hist(temp,bins='auto')\n",
    "plt.title(\"Unequalized Histogram\")\n",
    "plt.xlabel(\"Value\")\n",
    "plt.ylabel(\"Frequency\")\n",
    "plt.show()\n",
    "def fun(image_file):\n",
    "    img = Image.new( image_file.mode, image_file.size)\n",
    "    pixelsNew = img.load()\n",
    "    for i in range(0,4):\n",
    "        pix = dict()\n",
    "        count =0\n",
    "        if i ==0:\n",
    "            siz3 = 0\n",
    "            siz4 =image_file.size[0]/2\n",
    "            siz1 = 0\n",
    "            siz2 = image_file.size[1]/2\n",
    "        elif i == 1:\n",
    "            siz2 = image_file.size[0]\n",
    "            siz1 =image_file.size[0]/2\n",
    "        elif i == 2:\n",
    "            siz1 = 0\n",
    "            siz2 =image_file.size[0]/2\n",
    "            siz3 = image_file.size[1]/2\n",
    "            siz4 =image_file.size[1]\n",
    "        else:\n",
    "            siz4 = image_file.size[0]\n",
    "            siz3 =image_file.size[0]/2\n",
    "            siz1 = image_file.size[1]/2\n",
    "            siz2 =image_file.size[1]\n",
    "            \n",
    "        print(siz1,siz2,siz3,siz4)\n",
    "        for x,y in itertools.product(range(siz1,siz2),range(siz3,siz4)):\n",
    "            pix_val = image_file.getpixel((x,y))\n",
    "            count+=1\n",
    "            if int(pix_val) in pix.keys():\n",
    "                pix[pix_val] +=1\n",
    "            else:\n",
    "                pix[pix_val] = 1\n",
    "        mix = max(pix.keys())\n",
    "        print(count)        \n",
    "        for x in pix:\n",
    "            pix[x] =float(float(pix[x])/float(count))\n",
    "\n",
    "        com_pix = dict()\n",
    "        count = 0\n",
    "\n",
    "        for i in pix:\n",
    "            count += pix[i]\n",
    "            com_pix[i] = count\n",
    "        \n",
    "        for x,y in itertools.product(range(siz1,siz2),range(siz3,siz4)):\n",
    "            pix_vali = image_file.getpixel((x,y))\n",
    "            pix_val = com_pix[pix_vali]\n",
    "            new_pix = math.floor(255*pix_val)\n",
    "            pixelsNew[(x, y)]=int(new_pix)\n",
    "    \n",
    "    temp = np.array(img)\n",
    "    temp = temp.flatten()\n",
    "    plt.hist(temp,bins='auto')\n",
    "    plt.title(\"Equalized Histogram\")\n",
    "    plt.xlabel(\"Value\")\n",
    "    plt.ylabel(\"Frequency\")\n",
    "    plt.show()\n",
    "    img.show()\n",
    "    \n",
    "fun(image_file)"
   ]
  },
  {
   "cell_type": "code",
   "execution_count": 4,
   "metadata": {},
   "outputs": [
    {
     "data": {
      "image/png": "[encoded data removed]",
      "text/plain": [
       "<Figure size 432x288 with 1 Axes>"
      ]
     },
     "metadata": {
      "needs_background": "light"
     },
     "output_type": "display_data"
    },
    {
     "ename": "KeyboardInterrupt",
     "evalue": "",
     "output_type": "error",
     "traceback": [
      "\u001b[1;31m---------------------------------------------------------------------------\u001b[0m",
      "\u001b[1;31mKeyboardInterrupt\u001b[0m                         Traceback (most recent call last)",
      "\u001b[1;32m<ipython-input-4-e2904018535c>\u001b[0m in \u001b[0;36m<module>\u001b[1;34m()\u001b[0m\n\u001b[0;32m     52\u001b[0m     \u001b[0mimg\u001b[0m\u001b[1;33m.\u001b[0m\u001b[0mshow\u001b[0m\u001b[1;33m(\u001b[0m\u001b[1;33m)\u001b[0m\u001b[1;33m\u001b[0m\u001b[0m\n\u001b[0;32m     53\u001b[0m \u001b[1;33m\u001b[0m\u001b[0m\n\u001b[1;32m---> 54\u001b[1;33m \u001b[0msliding\u001b[0m\u001b[1;33m(\u001b[0m\u001b[0mimage_file\u001b[0m\u001b[1;33m)\u001b[0m\u001b[1;33m\u001b[0m\u001b[0m\n\u001b[0m",
      "\u001b[1;32m<ipython-input-4-e2904018535c>\u001b[0m in \u001b[0;36msliding\u001b[1;34m(image_file)\u001b[0m\n\u001b[0;32m     40\u001b[0m                 \u001b[0mpix_vali\u001b[0m \u001b[1;33m=\u001b[0m \u001b[0mimage_file\u001b[0m\u001b[1;33m.\u001b[0m\u001b[0mgetpixel\u001b[0m\u001b[1;33m(\u001b[0m\u001b[1;33m(\u001b[0m\u001b[0mx\u001b[0m\u001b[1;33m,\u001b[0m\u001b[0my\u001b[0m\u001b[1;33m)\u001b[0m\u001b[1;33m)\u001b[0m\u001b[1;33m\u001b[0m\u001b[0m\n\u001b[0;32m     41\u001b[0m                 \u001b[0mpix_val\u001b[0m \u001b[1;33m=\u001b[0m \u001b[0mcom_pix\u001b[0m\u001b[1;33m[\u001b[0m\u001b[0mpix_vali\u001b[0m\u001b[1;33m]\u001b[0m\u001b[1;33m\u001b[0m\u001b[0m\n\u001b[1;32m---> 42\u001b[1;33m                 \u001b[0mnew_pix\u001b[0m \u001b[1;33m=\u001b[0m \u001b[0mmath\u001b[0m\u001b[1;33m.\u001b[0m\u001b[0mfloor\u001b[0m\u001b[1;33m(\u001b[0m\u001b[1;36m255\u001b[0m\u001b[1;33m*\u001b[0m\u001b[0mpix_val\u001b[0m\u001b[1;33m)\u001b[0m\u001b[1;33m\u001b[0m\u001b[0m\n\u001b[0m\u001b[0;32m     43\u001b[0m                 \u001b[0mpixelsNew\u001b[0m\u001b[1;33m[\u001b[0m\u001b[1;33m(\u001b[0m\u001b[0mx\u001b[0m\u001b[1;33m,\u001b[0m \u001b[0my\u001b[0m\u001b[1;33m)\u001b[0m\u001b[1;33m]\u001b[0m\u001b[1;33m=\u001b[0m\u001b[0mint\u001b[0m\u001b[1;33m(\u001b[0m\u001b[0mnew_pix\u001b[0m\u001b[1;33m)\u001b[0m\u001b[1;33m\u001b[0m\u001b[0m\n\u001b[0;32m     44\u001b[0m \u001b[1;33m\u001b[0m\u001b[0m\n",
      "\u001b[1;31mKeyboardInterrupt\u001b[0m: "
     ]
    }
   ],
   "source": [
    "#TASK 2 (b)\n",
    "temp = np.array(image_file)\n",
    "temp = temp.flatten()\n",
    "plt.hist(temp,bins='auto')\n",
    "plt.title(\"Unequalized Histogram\")\n",
    "plt.xlabel(\"Value\")\n",
    "plt.ylabel(\"Frequency\")\n",
    "plt.show()\n",
    "def sliding(image_file):\n",
    "    img = Image.new( image_file.mode, image_file.size)\n",
    "    pixelsNew = img.load()\n",
    "    for i in range(0,image_file.size[0]-8):\n",
    "        siz1 = i\n",
    "        siz2 = i+8\n",
    "        for j in range(0,image_file.size[0]-8):\n",
    "            siz3 = j\n",
    "            siz4 = j+8\n",
    "            pix = dict()\n",
    "            count =0\n",
    "\n",
    "            #print(siz1,siz2,siz3,siz4)\n",
    "            for x,y in itertools.product(range(siz1,siz2),range(siz3,siz4)):\n",
    "                pix_val = image_file.getpixel((x,y))\n",
    "                count+=1\n",
    "                if int(pix_val) in pix.keys():\n",
    "                    pix[pix_val] +=1\n",
    "                else:\n",
    "                    pix[pix_val] = 1\n",
    "            #print(count)        \n",
    "            for x in pix:\n",
    "                pix[x] =float(float(pix[x])/float(count))\n",
    "\n",
    "            com_pix = dict()\n",
    "            count = 0\n",
    "\n",
    "            for z in pix:\n",
    "                count += pix[z]\n",
    "                com_pix[z] = count\n",
    "\n",
    "            for x,y in itertools.product(range(siz1,siz2),range(siz3,siz4)):\n",
    "                pix_vali = image_file.getpixel((x,y))\n",
    "                pix_val = com_pix[pix_vali]\n",
    "                new_pix = math.floor(255*pix_val)\n",
    "                pixelsNew[(x, y)]=int(new_pix)\n",
    "    \n",
    "    temp = np.array(img)\n",
    "    temp = temp.flatten()\n",
    "    plt.hist(temp,bins='auto')\n",
    "    plt.title(\"Equalized Histogram\")\n",
    "    plt.xlabel(\"Value\")\n",
    "    plt.ylabel(\"Frequency\")\n",
    "    plt.show()\n",
    "    img.show()\n",
    "    \n",
    "sliding(image_file)"
   ]
  },
  {
   "cell_type": "code",
   "execution_count": null,
   "metadata": {},
   "outputs": [],
   "source": [
    "#END"
   ]
  }
 ],
 "metadata": {
  "kernelspec": {
   "display_name": "Python 3",
   "language": "python",
   "name": "python3"
  },
  "language_info": {
   "codemirror_mode": {
    "name": "ipython",
    "version": 3
   },
   "file_extension": ".py",
   "mimetype": "text/x-python",
   "name": "python",
   "nbconvert_exporter": "python",
   "pygments_lexer": "ipython3",
   "version": "3.6.4"
  }
 },
 "nbformat": 4,
 "nbformat_minor": 2
}
