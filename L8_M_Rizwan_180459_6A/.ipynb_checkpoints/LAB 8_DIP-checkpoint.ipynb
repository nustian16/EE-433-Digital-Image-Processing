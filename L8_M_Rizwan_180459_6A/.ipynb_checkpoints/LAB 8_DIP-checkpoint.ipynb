{
 "cells": [
  {
   "cell_type": "code",
   "execution_count": 1,
   "metadata": {},
   "outputs": [],
   "source": [
    "                                        #Name: Muhammad Roshan Mughees\n",
    "                                        #Roll no.: 193590\n",
    "                                        #Class: CS-6A"
   ]
  },
  {
   "cell_type": "code",
   "execution_count": 2,
   "metadata": {},
   "outputs": [],
   "source": [
    "import numpy as np\n",
    "import matplotlib.pyplot as plt\n",
    "import matplotlib.image as mpimg\n",
    "from PIL import Image\n",
    "import PIL\n",
    "import itertools\n",
    "import math"
   ]
  },
  {
   "cell_type": "code",
   "execution_count": 3,
   "metadata": {},
   "outputs": [],
   "source": [
    "image_file = Image.open(\"this.png\").convert(\"L\")"
   ]
  },
  {
   "cell_type": "code",
   "execution_count": 4,
   "metadata": {},
   "outputs": [
    {
     "data": {
      "image/png": "[encoded data removed]",
      "text/plain": [
       "<Figure size 432x288 with 1 Axes>"
      ]
     },
     "metadata": {},
     "output_type": "display_data"
    }
   ],
   "source": [
    "#TASK 1\n",
    "def make_hist(image_file):\n",
    "    img = Image.new( image_file.mode, image_file.size)\n",
    "    pixelsNew = img.load()\n",
    "    pix = dict()\n",
    "    count =0\n",
    "    siz2,siz4 = image_file.size[0],image_file.size[1]\n",
    "    siz1,siz3 =0,0 \n",
    "    for x,y in itertools.product(range(siz1,siz2),range(siz3,siz4)):\n",
    "        pix_val = image_file.getpixel((x,y))\n",
    "        count+=1\n",
    "        if int(pix_val) in pix.keys():\n",
    "            pix[pix_val] +=1\n",
    "        else:\n",
    "            pix[pix_val] = 1        \n",
    "    for x in pix:\n",
    "        pix[x] =float(float(pix[x])/float(count))\n",
    "    com_pix = dict()\n",
    "    count = 0\n",
    "\n",
    "    for i in pix:\n",
    "        count += pix[i]\n",
    "        com_pix[i] = count\n",
    "        \n",
    "    for x,y in itertools.product(range(siz1,siz2),range(siz3,siz4)):\n",
    "        pix_vali = image_file.getpixel((x,y))\n",
    "        pix_val = com_pix[pix_vali]\n",
    "        new_pix = math.floor(255*pix_val)\n",
    "        pixelsNew[(x, y)]=int(new_pix)\n",
    "    \n",
    "    temp = np.array(img)\n",
    "    temp = temp.flatten()\n",
    "    plt.hist(temp,bins='auto')\n",
    "    plt.title(\"Equalized Histogram\")\n",
    "    plt.xlabel(\"Value\")\n",
    "    plt.ylabel(\"Frequency\")\n",
    "    plt.show()\n",
    "    img.show()\n",
    "    \n",
    "make_hist(image_file)"
   ]
  },
  {
   "cell_type": "code",
   "execution_count": 7,
   "metadata": {},
   "outputs": [
    {
     "data": {
      "image/png": "[encoded data removed]",
      "text/plain": [
       "<Figure size 432x288 with 1 Axes>"
      ]
     },
     "metadata": {},
     "output_type": "display_data"
    },
    {
     "name": "stdout",
     "output_type": "stream",
     "text": [
      "0 256 0 256\n",
      "65536\n",
      "256 512 0 256\n",
      "65536\n",
      "0 256 256 512\n",
      "65536\n",
      "256 512 256 512\n",
      "65536\n"
     ]
    },
    {
     "data": {
      "image/png": "[encoded data removed]",
      "text/plain": [
       "<Figure size 432x288 with 1 Axes>"
      ]
     },
     "metadata": {},
     "output_type": "display_data"
    }
   ],
   "source": [
    "#TASK 2 (a)\n",
    "temp = np.array(image_file)\n",
    "temp = temp.flatten()\n",
    "plt.hist(temp,bins='auto')\n",
    "plt.title(\"Unequalized Histogram\")\n",
    "plt.xlabel(\"Value\")\n",
    "plt.ylabel(\"Frequency\")\n",
    "plt.show()\n",
    "def fun(image_file):\n",
    "    img = Image.new( image_file.mode, image_file.size)\n",
    "    pixelsNew = img.load()\n",
    "    for i in range(0,4):\n",
    "        pix = dict()\n",
    "        count =0\n",
    "        if i ==0:\n",
    "            siz3 = 0\n",
    "            siz4 =image_file.size[0]//2\n",
    "            siz1 = 0\n",
    "            siz2 = image_file.size[1]//2\n",
    "        elif i == 1:\n",
    "            siz2 = image_file.size[0]\n",
    "            siz1 =image_file.size[0]//2\n",
    "        elif i == 2:\n",
    "            siz1 = 0\n",
    "            siz2 =image_file.size[0]//2\n",
    "            siz3 = image_file.size[1]//2\n",
    "            siz4 =image_file.size[1]\n",
    "        else:\n",
    "            siz4 = image_file.size[0]\n",
    "            siz3 =image_file.size[0]//2\n",
    "            siz1 = image_file.size[1]//2\n",
    "            siz2 =image_file.size[1]\n",
    "            \n",
    "        print(siz1,siz2,siz3,siz4)\n",
    "        for x,y in itertools.product(range(siz1,siz2),range(siz3,siz4)):\n",
    "            pix_val = image_file.getpixel((x,y))\n",
    "            count+=1\n",
    "            if int(pix_val) in pix.keys():\n",
    "                pix[pix_val] +=1\n",
    "            else:\n",
    "                pix[pix_val] = 1\n",
    "        mix = max(pix.keys())\n",
    "        print(count)        \n",
    "        for x in pix:\n",
    "            pix[x] =float(float(pix[x])/float(count))\n",
    "\n",
    "        com_pix = dict()\n",
    "        count = 0\n",
    "\n",
    "        for i in pix:\n",
    "            count += pix[i]\n",
    "            com_pix[i] = count\n",
    "        \n",
    "        for x,y in itertools.product(range(siz1,siz2),range(siz3,siz4)):\n",
    "            pix_vali = image_file.getpixel((x,y))\n",
    "            pix_val = com_pix[pix_vali]\n",
    "            new_pix = math.floor(255*pix_val)\n",
    "            pixelsNew[(x, y)]=int(new_pix)\n",
    "    \n",
    "    temp = np.array(img)\n",
    "    temp = temp.flatten()\n",
    "    plt.hist(temp,bins='auto')\n",
    "    plt.title(\"Equalized Histogram\")\n",
    "    plt.xlabel(\"Value\")\n",
    "    plt.ylabel(\"Frequency\")\n",
    "    plt.show()\n",
    "    img.show()\n",
    "    \n",
    "fun(image_file)"
   ]
  },
  {
   "cell_type": "code",
   "execution_count": null,
   "metadata": {},
   "outputs": [
    {
     "data": {
      "image/png": "[encoded data removed]",
      "text/plain": [
       "<Figure size 432x288 with 1 Axes>"
      ]
     },
     "metadata": {},
     "output_type": "display_data"
    }
   ],
   "source": [
    "#TASK 2 (b)\n",
    "temp = np.array(image_file)\n",
    "temp = temp.flatten()\n",
    "plt.hist(temp,bins='auto')\n",
    "plt.title(\"Unequalized Histogram\")\n",
    "plt.xlabel(\"Value\")\n",
    "plt.ylabel(\"Frequency\")\n",
    "plt.show()\n",
    "def sliding(image_file):\n",
    "    img = Image.new( image_file.mode, image_file.size)\n",
    "    pixelsNew = img.load()\n",
    "    for i in range(0,image_file.size[0]-64):\n",
    "        siz1 = i\n",
    "        siz2 = i+64\n",
    "        for j in range(0,image_file.size[0]-64):\n",
    "            siz3 = j\n",
    "            siz4 = j+64\n",
    "            pix = dict()\n",
    "            count =0\n",
    "\n",
    "            #print(siz1,siz2,siz3,siz4)\n",
    "            for x,y in itertools.product(range(siz1,siz2),range(siz3,siz4)):\n",
    "                pix_val = image_file.getpixel((x,y))\n",
    "                count+=1\n",
    "                if int(pix_val) in pix.keys():\n",
    "                    pix[pix_val] +=1\n",
    "                else:\n",
    "                    pix[pix_val] = 1\n",
    "            #print(count)        \n",
    "            for x in pix:\n",
    "                pix[x] =float(float(pix[x])/float(count))\n",
    "\n",
    "            com_pix = dict()\n",
    "            count = 0\n",
    "\n",
    "            for z in pix:\n",
    "                count += pix[z]\n",
    "                com_pix[z] = count\n",
    "\n",
    "            for x,y in itertools.product(range(siz1,siz2),range(siz3,siz4)):\n",
    "                pix_vali = image_file.getpixel((x,y))\n",
    "                pix_val = com_pix[pix_vali]\n",
    "                new_pix = math.floor(255*pix_val)\n",
    "                pixelsNew[(x, y)]=int(new_pix)\n",
    "    \n",
    "    temp = np.array(img)\n",
    "    temp = temp.flatten()\n",
    "    plt.hist(temp,bins='auto')\n",
    "    plt.title(\"Equalized Histogram\")\n",
    "    plt.xlabel(\"Value\")\n",
    "    plt.ylabel(\"Frequency\")\n",
    "    plt.show()\n",
    "    img.show()\n",
    "    \n",
    "sliding(image_file)"
   ]
  },
  {
   "cell_type": "code",
   "execution_count": null,
   "metadata": {},
   "outputs": [],
   "source": [
    "#END"
   ]
  }
 ],
 "metadata": {
  "kernelspec": {
   "display_name": "Python 3",
   "language": "python",
   "name": "python3"
  },
  "language_info": {
   "codemirror_mode": {
    "name": "ipython",
    "version": 3
   },
   "file_extension": ".py",
   "mimetype": "text/x-python",
   "name": "python",
   "nbconvert_exporter": "python",
   "pygments_lexer": "ipython3",
   "version": "3.6.4"
  }
 },
 "nbformat": 4,
 "nbformat_minor": 2
}
