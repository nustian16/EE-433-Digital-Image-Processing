{
 "cells": [
  {
   "cell_type": "code",
   "execution_count": 15,
   "metadata": {},
   "outputs": [],
   "source": [
    "import PIL\n",
    "import math\n",
    "import itertools\n",
    "import numpy as np\n",
    "from PIL import Image"
   ]
  },
  {
   "cell_type": "code",
   "execution_count": 26,
   "metadata": {},
   "outputs": [],
   "source": [
    "def average_filter(img,mask):\n",
    "    k = mask.shape[0] // 2\n",
    "    out = np.zeros(img.shape)\n",
    "    img = np.pad(img, k, mode='constant')\n",
    "    sum = np.sum(mask)\n",
    "    \n",
    "    for x,y in itertools.product(range(k,img.shape[0] - k),range(k,img.shape[1] - k)):\n",
    "        temp=0\n",
    "        v = x - mask.shape[0] // 2\n",
    "        u = y - mask.shape[1] // 2\n",
    "        for a,b in itertools.product(range(mask.shape[0]),range(mask.shape[1])):\n",
    "            temp += img[v+a][u+b] * mask[a][b]\n",
    "        if sum ==0:\n",
    "            sum = 1\n",
    "        temp /= sum\n",
    "        out[x-k][y-k] =temp\n",
    "        \n",
    "    return out"
   ]
  },
  {
   "cell_type": "code",
   "execution_count": 24,
   "metadata": {},
   "outputs": [],
   "source": [
    "img = np.asarray(Image.open('smoothing.tif'))\n",
    "mask = np.ones((3,3))\n",
    "img = average_filter(img,mask)\n",
    "img = Image.fromarray(img)\n",
    "img.show()"
   ]
  },
  {
   "cell_type": "code",
   "execution_count": 12,
   "metadata": {},
   "outputs": [],
   "source": [
    "img = np.asarray(Image.open('smoothing.tif'))\n",
    "mask = np.ones((5,5))\n",
    "img = average_filter(img,mask)\n",
    "img = Image.fromarray(img)\n",
    "img.show()"
   ]
  },
  {
   "cell_type": "code",
   "execution_count": 13,
   "metadata": {},
   "outputs": [],
   "source": [
    "img = np.asarray(Image.open('smoothing.tif'))\n",
    "mask = np.ones((15,15))\n",
    "img = average_filter(img,mask)\n",
    "img = Image.fromarray(img)\n",
    "img.show()"
   ]
  },
  {
   "cell_type": "code",
   "execution_count": null,
   "metadata": {},
   "outputs": [],
   "source": [
    "img = np.asarray(Image.open('smoothing.tif'))\n",
    "mask = np.ones((35,35))\n",
    "img = average_filter(img,mask)\n",
    "img = Image.fromarray(img)\n",
    "img.show()"
   ]
  },
  {
   "cell_type": "code",
   "execution_count": null,
   "metadata": {},
   "outputs": [],
   "source": [
    "img = np.asarray(Image.open('smoothing.tif'))\n",
    "mask = np.array([[1,2,3],[2,4,2],[1,2,1]])\n",
    "img = average_filter(img,mask)\n",
    "img = Image.fromarray(img)\n",
    "img.show()"
   ]
  },
  {
   "cell_type": "markdown",
   "metadata": {},
   "source": [
    "## Question: What do you observe when increasing the size of the filter and why?\n",
    "#### Answer: increasing the size of filter, further smoothen the image as we increase the neighbourhood, the no. of intensities are increased, therefore, middle pixel intensity is most effected."
   ]
  },
  {
   "cell_type": "code",
   "execution_count": null,
   "metadata": {},
   "outputs": [],
   "source": [
    "img = np.asarray(Image.open('smoothing.tif'))\n",
    "mask = np.array([[1,1,2,2,2,1,1],[1,2,2,4,2,2,1],[2,2,4,8,4,2,2],[2,4,8,16,8,4,2],[2,2,4,8,4,2,2],[1,2,2,4,2,2,1],[1,1,2,2,2,1,1]])\n",
    "img = average_filter(img,mask)\n",
    "img = Image.fromarray(img)\n",
    "img.show()"
   ]
  },
  {
   "cell_type": "markdown",
   "metadata": {},
   "source": [
    "## Question: What impact do you think happen when the value of σ is increased?\n",
    "#### Answer: Increasig the value of σ increases the image blurrerness. Just like low pass filter, increasing the value of σ, we are increasing the intensity values around the centre to pass through."
   ]
  },
  {
   "cell_type": "code",
   "execution_count": null,
   "metadata": {},
   "outputs": [],
   "source": [
    "img = np.asarray(PIL.Image.open('unsharpmasking.tif'))\n",
    "mask = np.ones((3,3))\n",
    "img = average_filter(img,mask)\n",
    "L = np.asarray(PIL.Image.open('unsharpmasking.tif'))\n",
    "L = L+L-img\n",
    "img = Image.fromarray(L)\n",
    "img.show()"
   ]
  },
  {
   "cell_type": "code",
   "execution_count": null,
   "metadata": {},
   "outputs": [],
   "source": [
    "img = np.asarray(PIL.Image.open('unsharpmasking.tif'))\n",
    "mask = np.array([[1,1,2,2,2,1,1],[1,2,2,4,2,2,1],[2,2,4,8,4,2,2],[2,4,8,16,8,4,2],[2,2,4,8,4,2,2],[1,2,2,4,2,2,1],[1,1,2,2,2,1,1]])\n",
    "img = average_filter(img,mask)\n",
    "L = np.asarray(PIL.Image.open('unsharpmasking.tif'))\n",
    "L = L+L-img\n",
    "img = Image.fromarray(L)\n",
    "img.show()"
   ]
  },
  {
   "cell_type": "code",
   "execution_count": null,
   "metadata": {},
   "outputs": [],
   "source": [
    "def median_filter(img,mask):\n",
    "    k = mask.shape[0] // 2\n",
    "    window = np.zeros(mask.size)\n",
    "    out = np.zeros(img.shape)\n",
    "    img = np.pad(img, k, mode='constant')\n",
    "    sum = np.sum(mask)\n",
    "    \n",
    "    for x,y in itertools.product(range(k,img.shape[0] - k),range(k,img.shape[1] - k)):\n",
    "        temp=0\n",
    "        v = x - mask.shape[0] // 2\n",
    "        u = y - mask.shape[1] // 2\n",
    "        i=0\n",
    "        for a,b in itertools.product(range(mask.shape[0]),range(mask.shape[1])):\n",
    "            window[i] = img[v+a][u+b]\n",
    "            i=i+1\n",
    "        window.sort()\n",
    "        out[x-k][y-k] = window[ (mask.shape[0] * mask.shape[1]) // 2]\n",
    "    \n",
    "    return out"
   ]
  },
  {
   "cell_type": "code",
   "execution_count": null,
   "metadata": {},
   "outputs": [],
   "source": [
    "img = np.asarray(PIL.Image.open('saltandpaper.tif'))\n",
    "mask = np.ones((5,5))\n",
    "img = medianfilter(img,mask)\n",
    "img = Image.fromarray(img)\n",
    "img.show()"
   ]
  },
  {
   "cell_type": "markdown",
   "metadata": {},
   "source": [
    "## Question: Which filtering approach do you consider will suit best to remove the said noise?\n",
    "##### Answer: Median Filter as it takes the central internsity value from the given mask and assigns the new value which is the centre value of the mask thereby easily removing the noise."
   ]
  },
  {
   "cell_type": "code",
   "execution_count": null,
   "metadata": {},
   "outputs": [],
   "source": [
    "sobelx= np.array([[-1,0,1],[-2,0,2],[-1,0,1]])\n",
    "sobely= np.array([[-1,-2,-1],[0,0,0],[1,2,1]])\n",
    "img = np.asarray(PIL.Image.open('two_cats.jpg').convert('L'))\n",
    "X_img = average_filter(img,X_mask)\n",
    "Y_img =  average_filter(img,Y_mask)\n",
    "img = np.sqrt((X_img**2) + (Y_img**2))\n",
    "img = Image.fromarray(img)\n",
    "img.show()"
   ]
  }
 ],
 "metadata": {
  "kernelspec": {
   "display_name": "Python 3",
   "language": "python",
   "name": "python3"
  },
  "language_info": {
   "codemirror_mode": {
    "name": "ipython",
    "version": 3
   },
   "file_extension": ".py",
   "mimetype": "text/x-python",
   "name": "python",
   "nbconvert_exporter": "python",
   "pygments_lexer": "ipython3",
   "version": "3.6.4"
  }
 },
 "nbformat": 4,
 "nbformat_minor": 2
}
