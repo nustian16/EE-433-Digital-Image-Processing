{
 "cells": [
  {
   "cell_type": "code",
   "execution_count": 1,
   "metadata": {},
   "outputs": [],
   "source": [
    "import PIL\n",
    "import math\n",
    "import itertools\n",
    "import numpy as np\n",
    "from PIL import Image\n",
    "import matplotlib.pyplot as plt\n",
    "import matplotlib.image as mpimg"
   ]
  },
  {
   "cell_type": "code",
   "execution_count": 2,
   "metadata": {},
   "outputs": [],
   "source": [
    "def local_hist_eq(img,left,right,top,bottom):\n",
    "    \n",
    "    count =0\n",
    "    pixel = dict()\n",
    "    comulative = dict()\n",
    "    temp = np.array(img)\n",
    "    temp = temp.flatten()\n",
    "    equalized_pixels = img.load()\n",
    "    \n",
    "    for x,y in itertools.product(range(left,right),range(top,bottom)):\n",
    "        pixel_value = img.getpixel((x,y))\n",
    "        count += 1\n",
    "        if int(pixel_value) in pixel.keys():\n",
    "            pixel[pixel_value] +=1\n",
    "        else:\n",
    "            pixel[pixel_value] = 1\n",
    "    \n",
    "    for x in pixel:\n",
    "        pixel[x] = pixel[x] / count\n",
    "    \n",
    "    count = 0\n",
    "    for i in pixel:\n",
    "        count += pixel[i]\n",
    "        comulative[i] = count\n",
    "    \n",
    "    for x,y in itertools.product(range(left,right),range(top,bottom)):\n",
    "        temp = img.getpixel((x,y))\n",
    "        temp1 = comulative[temp]\n",
    "        eq = math.floor(255 * temp1)\n",
    "        equalized_pixels[(x, y)] = int(eq)"
   ]
  },
  {
   "cell_type": "code",
   "execution_count": 3,
   "metadata": {},
   "outputs": [],
   "source": [
    "img = Image.open('this.png').convert('L')\n",
    "cx = img.size[0] // 2\n",
    "cy = img.size[1] // 2\n",
    "width, height = img.size\n",
    "local_hist_eq(img,0,cx,0,cy)\n",
    "local_hist_eq(img,cx,width,0,cy)\n",
    "local_hist_eq(img,0,cx,cy,height)\n",
    "local_hist_eq(img,cx,width, cy, height)\n",
    "img.show()"
   ]
  },
  {
   "cell_type": "code",
   "execution_count": 7,
   "metadata": {},
   "outputs": [],
   "source": [
    "def sliding_hist_eq(img):\n",
    "    \n",
    "    width, height = img.size\n",
    "    #img = Image.new( img.mode, img.size)\n",
    "    equalized_pixels = img.load()\n",
    "    \n",
    "    for i in range(width-64):\n",
    "        for j in range(height-64):\n",
    "            \n",
    "            count = 0\n",
    "            pixel = dict()\n",
    "            \n",
    "            for x,y in itertools.product(range(i,i+64),range(j,j+64)):\n",
    "                pixel_value = img.getpixel((x,y))\n",
    "                count += 1\n",
    "                if int(pixel_value) in pixel.keys():\n",
    "                    pixel[pixel_value] +=1\n",
    "                else:\n",
    "                    pixel[pixel_value] = 1\n",
    "\n",
    "            for x in pixel:\n",
    "                pixel[x] = pixel[x] / count\n",
    "\n",
    "            count = 0\n",
    "            comulative = dict()\n",
    "            \n",
    "            for k in pixel.keys():\n",
    "                count += pixel[k]\n",
    "                comulative[k] = count\n",
    "\n",
    "            for x,y in itertools.product(range(i,i+64),range(j,j+64)):\n",
    "                temp = img.getpixel((x,y))\n",
    "                temp1 = comulative[temp]\n",
    "                eq = math.floor(255 * temp1)\n",
    "                equalized_pixels[(x, y)] = int(eq)"
   ]
  },
  {
   "cell_type": "code",
   "execution_count": null,
   "metadata": {},
   "outputs": [],
   "source": [
    "img = Image.open('this.png').convert('L')\n",
    "sliding_hist_eq(img);\n",
    "img.show()"
   ]
  }
 ],
 "metadata": {
  "kernelspec": {
   "display_name": "Python 3",
   "language": "python",
   "name": "python3"
  },
  "language_info": {
   "codemirror_mode": {
    "name": "ipython",
    "version": 3
   },
   "file_extension": ".py",
   "mimetype": "text/x-python",
   "name": "python",
   "nbconvert_exporter": "python",
   "pygments_lexer": "ipython3",
   "version": "3.6.4"
  }
 },
 "nbformat": 4,
 "nbformat_minor": 1
}
