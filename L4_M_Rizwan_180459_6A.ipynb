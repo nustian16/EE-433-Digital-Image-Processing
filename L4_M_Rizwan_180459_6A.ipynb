{
 "cells": [
  {
   "cell_type": "code",
   "execution_count": 1,
   "metadata": {},
   "outputs": [],
   "source": [
    "#Muhammad Roshan Mughees - 193590\n",
    "#Muhammad Rizwan Khalid - 180459\n",
    "\n",
    "\n",
    "from PIL import Image\n",
    "import numpy as np\n",
    "import PIL"
   ]
  },
  {
   "cell_type": "code",
   "execution_count": 152,
   "metadata": {},
   "outputs": [],
   "source": [
    "#convert to 8 bit grayscale\n",
    "image_file = Image.open('Lab4-image.png').convert('L')\n",
    "image_file.show()"
   ]
  },
  {
   "cell_type": "code",
   "execution_count": 153,
   "metadata": {},
   "outputs": [],
   "source": [
    "#convert it to 2 bit grayscale\n",
    "import itertools\n",
    "img = Image.new( image_file.mode, image_file.size)\n",
    "pixelsNew = img.load()\n",
    "for x,y in itertools.product(range(0,image_file.size[0]),range(0,image_file.size[1])):\n",
    "    color = image_file.getpixel((x,y))\n",
    "    if color>=125:\n",
    "        pixelsNew[(x, y)]= 255\n",
    "    else: \n",
    "        pixelsNew[(x, y)] = 0\n",
    "img.show()\n",
    "img.save('greyscale.png')"
   ]
  },
  {
   "cell_type": "code",
   "execution_count": 181,
   "metadata": {},
   "outputs": [],
   "source": [
    "#convert grayscale image to numpy array\n",
    "I = np.asarray(PIL.Image.open('greyscale.png'))"
   ]
  },
  {
   "cell_type": "code",
   "execution_count": 182,
   "metadata": {},
   "outputs": [
    {
     "name": "stdout",
     "output_type": "stream",
     "text": [
      "[[255 255 255 ... 255 255 255]\n",
      " [255 255 255 ... 255 255 255]\n",
      " [255 255 255 ... 255 255 255]\n",
      " ...\n",
      " [255 255 255 ... 255 255 255]\n",
      " [255 255 255 ... 255 255 255]\n",
      " [255 255 255 ... 255 255 255]]\n"
     ]
    }
   ],
   "source": [
    "#adding strides i.e., extra row and column\n",
    "row = np.full(np.size(I,1), 255, dtype=int)\n",
    "I = np.insert(I, 0, row, 0)\n",
    "col = np.full(np.size(I,0), 255, dtype=int)\n",
    "I = np.insert(I, 0, col, 1)\n",
    "print I"
   ]
  },
  {
   "cell_type": "code",
   "execution_count": 183,
   "metadata": {
    "scrolled": true
   },
   "outputs": [
    {
     "data": {
      "text/plain": [
       "332L"
      ]
     },
     "execution_count": 183,
     "metadata": {},
     "output_type": "execute_result"
    }
   ],
   "source": [
    "#a = np.zeros((20, 2000))\n",
    "#row = np.full(np.size(a,1), 255, dtype=int)\n",
    "#a = np.insert(a, 0, row, 0)\n",
    "#col = np.full(np.size(a,0), 255, dtype=int)\n",
    "#a = np.insert(a, 0, col, 1)\n",
    "#print a\n",
    "I.shape[0]"
   ]
  },
  {
   "cell_type": "code",
   "execution_count": 184,
   "metadata": {},
   "outputs": [],
   "source": [
    "#making new matrix with these values\n",
    "count = 100\n",
    "dic = dict()\n",
    "result= np.zeros((I.shape[0]-1,I.shape[1]-1))\n",
    "for rowt in range(I.shape[0] - 1):\n",
    "    for colt in range(I.shape[1] - 1):\n",
    "        Row = rowt +1\n",
    "        Col = colt+1\n",
    "        if I[Row][Col] == 255:\n",
    "            result[Row-1][Col-1] = 0\n",
    "        elif result[Row-2][Col-2] == 0 and result[Row-1][Col-2] == 0:\n",
    "            result[Row-1][Col-1] = count\n",
    "            count += 1\n",
    "            continue\n",
    "        elif result[Row-2][Col-2] == 0:\n",
    "            result[Row-1][Col-1] = result[Row-1][Col-2]\n",
    "        elif result[Row-1][Col-2] == 0:\n",
    "            result[Row-1][Col-1] = result[Row-2][Col-1]\n",
    "        else:\n",
    "            result[Row-1][Col-1] = min(result[Row-1][Col-2],result[Row-2][Col-2])\n",
    "            if result[Row-1][Col-2] != result[Row-2][Col-2]:\n",
    "                dic[int(max(result[Row-1][Col-2],result[Row-2][Col-2]))] = int(min(result[Row-1][Col-2],result[Row-2][Col-2]))"
   ]
  },
  {
   "cell_type": "code",
   "execution_count": 185,
   "metadata": {},
   "outputs": [
    {
     "data": {
      "text/plain": [
       "(331L, 508L)"
      ]
     },
     "execution_count": 185,
     "metadata": {},
     "output_type": "execute_result"
    }
   ],
   "source": [
    "result.shape"
   ]
  },
  {
   "cell_type": "code",
   "execution_count": 189,
   "metadata": {},
   "outputs": [],
   "source": [
    "##converting numpy array to image for seeing results\n",
    "im = PIL.Image.fromarray(np.array(result))\n",
    "im.show()"
   ]
  },
  {
   "cell_type": "code",
   "execution_count": 190,
   "metadata": {},
   "outputs": [],
   "source": [
    "#second iteration           \n",
    "for key in reversed(list(dic.keys())):\n",
    "    result[result == key]= dic[key]\n",
    "im = PIL.Image.fromarray(np.array(result))\n",
    "im.show()"
   ]
  },
  {
   "cell_type": "code",
   "execution_count": 192,
   "metadata": {},
   "outputs": [
    {
     "data": {
      "image/png": "[encoded data removed]",
      "text/plain": [
       "<Figure size 432x288 with 1 Axes>"
      ]
     },
     "metadata": {
      "needs_background": "light"
     },
     "output_type": "display_data"
    }
   ],
   "source": [
    "#applying coloring filter to see the results\n",
    "import matplotlib.pyplot as plt\n",
    "\n",
    "f = plt.figure()\n",
    "plt.imshow(result,cmap=\"nipy_spectral\")\n",
    "plt.show()"
   ]
  },
  {
   "cell_type": "code",
   "execution_count": 193,
   "metadata": {},
   "outputs": [],
   "source": [
    "## End"
   ]
  }
 ],
 "metadata": {
  "kernelspec": {
   "display_name": "Python 2",
   "language": "python",
   "name": "python2"
  },
  "language_info": {
   "codemirror_mode": {
    "name": "ipython",
    "version": 2
   },
   "file_extension": ".py",
   "mimetype": "text/x-python",
   "name": "python",
   "nbconvert_exporter": "python",
   "pygments_lexer": "ipython2",
   "version": "2.7.15"
  }
 },
 "nbformat": 4,
 "nbformat_minor": 2
}
