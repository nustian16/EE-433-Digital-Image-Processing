{
 "cells": [
  {
   "cell_type": "markdown",
   "metadata": {},
   "source": [
    "### Muhammad Rizwan Khalid\n",
    "### BSCS - 6A\n",
    "### 180459"
   ]
  },
  {
   "cell_type": "code",
   "execution_count": 1,
   "metadata": {},
   "outputs": [],
   "source": [
    "from PIL import Image\n",
    "import numpy as np\n",
    "import itertools"
   ]
  },
  {
   "cell_type": "code",
   "execution_count": 51,
   "metadata": {},
   "outputs": [],
   "source": [
    "rgb_img = Image.open(\"lena_color.gif\").convert('RGB')\n",
    "grey_img = Image.open(\"lena_color.gif\").convert(\"L\")\n",
    "bin_img = Image.open(\"lena_color.gif\").convert(\"L\")"
   ]
  },
  {
   "cell_type": "markdown",
   "metadata": {},
   "source": [
    "### Task 1: a)Finding the negative image of a binary image"
   ]
  },
  {
   "cell_type": "code",
   "execution_count": 47,
   "metadata": {},
   "outputs": [],
   "source": [
    "pixelsNew = bin_img.load()\n",
    "for x,y in itertools.product(range(bin_img.size[0]),range(bin_img.size[1])):\n",
    "    color = bin_img.getpixel((x,y))\n",
    "    if color>=128:\n",
    "        pixelsNew[(x, y)]= 0\n",
    "    else: \n",
    "        pixelsNew[(x, y)] = 255\n",
    "#bin_img.show()"
   ]
  },
  {
   "cell_type": "markdown",
   "metadata": {},
   "source": [
    "### The result of the image is shown in figure <img src=\"bin.png\">"
   ]
  },
  {
   "cell_type": "markdown",
   "metadata": {},
   "source": [
    "### Task: 1 b) Find the negative image of RGB image"
   ]
  },
  {
   "cell_type": "code",
   "execution_count": 49,
   "metadata": {},
   "outputs": [],
   "source": [
    "rgb_img1 = rgb_img.load()\n",
    "for x,y in itertools.product(range(rgb_img.size[0]),range(rgb_img.size[1])):\n",
    "    rgb_img1[(x, y)] = tuple(255 - q for q in rgb_img1[(x, y)])   \n",
    "#rgb_img.show()"
   ]
  },
  {
   "cell_type": "markdown",
   "metadata": {},
   "source": [
    "### The result of the image is shown in figure <img src=\"rgb.png\">"
   ]
  },
  {
   "cell_type": "markdown",
   "metadata": {},
   "source": [
    "### Task: 1 a) Finding the negative image of grey level image"
   ]
  },
  {
   "cell_type": "code",
   "execution_count": 53,
   "metadata": {},
   "outputs": [],
   "source": [
    "grey_img1 = grey_img.load()\n",
    "for x,y in itertools.product(range(grey_img.size[0]),range(grey_img.size[1])):\n",
    "    grey_img1[(x, y)] = 255 - grey_img1[(x, y)]   \n",
    "#grey_img.show()"
   ]
  },
  {
   "cell_type": "markdown",
   "metadata": {},
   "source": [
    "### The result of the figure is shown in figure <img src=\"grey.png\">"
   ]
  },
  {
   "cell_type": "code",
   "execution_count": 54,
   "metadata": {},
   "outputs": [],
   "source": [
    "grey_img = Image.open(\"lena_color.gif\").convert(\"L\")"
   ]
  },
  {
   "cell_type": "markdown",
   "metadata": {},
   "source": [
    "### Task 2: Horizontal Edge detection using using first order difference"
   ]
  },
  {
   "cell_type": "code",
   "execution_count": 55,
   "metadata": {},
   "outputs": [],
   "source": [
    "grey_img1 = grey_img.load()\n",
    "for x,y in itertools.product(range(grey_img.size[0]),range(grey_img.size[1])):\n",
    "    if(x+1 < grey_img.size[0]):\n",
    "        grey_img1[(x, y)] = abs(grey_img1[(x+1, y)]  - grey_img1[(x, y)])\n",
    "#grey_img.show()"
   ]
  },
  {
   "cell_type": "markdown",
   "metadata": {},
   "source": [
    "### The edges are shown in the resultant figure <img src=\"diff.png\">"
   ]
  },
  {
   "cell_type": "markdown",
   "metadata": {},
   "source": [
    "### Task 3) Finding binary images of 7 bit planes for gray level image"
   ]
  },
  {
   "cell_type": "code",
   "execution_count": 56,
   "metadata": {},
   "outputs": [
    {
     "name": "stdout",
     "output_type": "stream",
     "text": [
      "(500, 1192)\n",
      "(1192, 500)\n"
     ]
    }
   ],
   "source": [
    "grey_img = Image.open(\"dollar.tif\").convert(\"L\")\n",
    "grey_img1 = np.array(grey_img)\n",
    "print(grey_img1.shape)\n",
    "print(grey_img.size)"
   ]
  },
  {
   "cell_type": "code",
   "execution_count": 28,
   "metadata": {},
   "outputs": [
    {
     "name": "stderr",
     "output_type": "stream",
     "text": [
      "C:\\Users\\M Rizwan\\Anaconda3\\lib\\site-packages\\ipykernel_launcher.py:7: RuntimeWarning: invalid value encountered in int_scalars\n",
      "  import sys\n",
      "C:\\Users\\M Rizwan\\Anaconda3\\lib\\site-packages\\ipykernel_launcher.py:8: RuntimeWarning: invalid value encountered in int_scalars\n",
      "  \n",
      "C:\\Users\\M Rizwan\\Anaconda3\\lib\\site-packages\\ipykernel_launcher.py:9: RuntimeWarning: invalid value encountered in int_scalars\n",
      "  if __name__ == '__main__':\n",
      "C:\\Users\\M Rizwan\\Anaconda3\\lib\\site-packages\\ipykernel_launcher.py:10: RuntimeWarning: invalid value encountered in int_scalars\n",
      "  # Remove the CWD from sys.path while we load stuff.\n",
      "C:\\Users\\M Rizwan\\Anaconda3\\lib\\site-packages\\ipykernel_launcher.py:11: RuntimeWarning: invalid value encountered in int_scalars\n",
      "  # This is added back by InteractiveShellApp.init_path()\n",
      "C:\\Users\\M Rizwan\\Anaconda3\\lib\\site-packages\\ipykernel_launcher.py:12: RuntimeWarning: invalid value encountered in int_scalars\n",
      "  if sys.path[0] == '':\n",
      "C:\\Users\\M Rizwan\\Anaconda3\\lib\\site-packages\\ipykernel_launcher.py:13: RuntimeWarning: invalid value encountered in int_scalars\n",
      "  del sys.path[0]\n",
      "C:\\Users\\M Rizwan\\Anaconda3\\lib\\site-packages\\ipykernel_launcher.py:14: RuntimeWarning: invalid value encountered in int_scalars\n",
      "  \n"
     ]
    }
   ],
   "source": [
    "grey_img1 = np.transpose(grey_img1)\n",
    "images = {}\n",
    "for i in range(8):\n",
    "    images[i] = np.zeros((grey_img.size[0],grey_img.size[1]))\n",
    "\n",
    "for x,y in itertools.product(range(grey_img1.shape[0]),range(grey_img1.shape[1])):\n",
    "    zero = 255 * ((grey_img1[x][y] & 1) / grey_img1[x][y]) \n",
    "    one = 255 * ((grey_img1[x][y] & 2) / grey_img1[x][y])\n",
    "    two = 255 * ((grey_img1[x][y] & 4) / grey_img1[x][y])\n",
    "    three = 255 * ((grey_img1[x][y] & 8) / grey_img1[x][y])\n",
    "    four = 255 * ((grey_img1[x][y] & 16) / grey_img1[x][y])\n",
    "    five = 255 * ((grey_img1[x][y] & 32) / grey_img1[x][y])\n",
    "    six = 255 * ((grey_img1[x][y] & 64) / grey_img1[x][y])\n",
    "    seven = 255 * ((grey_img1[x][y] & 128) / grey_img1[x][y])\n",
    "    images[0][x][y] = zero\n",
    "    images[1][x][y] = one\n",
    "    images[2][x][y] = two\n",
    "    images[3][x][y] = three\n",
    "    images[4][x][y] = four\n",
    "    images[5][x][y] = five\n",
    "    images[6][x][y] = six\n",
    "    images[7][x][y] = seven\n",
    "zero_img = Image.fromarray(images[0].transpose())\n",
    "one_img = Image.fromarray(images[1].transpose())\n",
    "two_img = Image.fromarray(images[2].transpose())\n",
    "three_img = Image.fromarray(images[3].transpose())\n",
    "four_img = Image.fromarray(images[4].transpose())\n",
    "five_img = Image.fromarray(images[5].transpose())\n",
    "six_img = Image.fromarray(images[6].transpose())\n",
    "seven_img = Image.fromarray(images[7].transpose())"
   ]
  },
  {
   "cell_type": "markdown",
   "metadata": {},
   "source": [
    "## The results are shown below in decreasing order of bit planes from 7 to 0"
   ]
  },
  {
   "cell_type": "markdown",
   "metadata": {
    "collapsed": true
   },
   "source": [
    "<img src=\"seven.png\">\n",
    "<img src=\"six.png\">\n",
    "<img src=\"five.png\">\n",
    "<img src=\"four.png\">\n",
    "<img src=\"three.png\">\n",
    "<img src=\"two.png\">\n",
    "<img src=\"one.png\">\n",
    "<img src=\"zero.png\">"
   ]
  },
  {
   "cell_type": "code",
   "execution_count": null,
   "metadata": {},
   "outputs": [],
   "source": []
  }
 ],
 "metadata": {
  "kernelspec": {
   "display_name": "Python 3",
   "language": "python",
   "name": "python3"
  },
  "language_info": {
   "codemirror_mode": {
    "name": "ipython",
    "version": 3
   },
   "file_extension": ".py",
   "mimetype": "text/x-python",
   "name": "python",
   "nbconvert_exporter": "python",
   "pygments_lexer": "ipython3",
   "version": "3.6.4"
  }
 },
 "nbformat": 4,
 "nbformat_minor": 1
}
